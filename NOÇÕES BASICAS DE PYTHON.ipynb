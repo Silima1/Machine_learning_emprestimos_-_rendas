{
  "cells": [
    {
      "cell_type": "markdown",
      "metadata": {
        "id": "view-in-github",
        "colab_type": "text"
      },
      "source": [
        "<a href=\"https://colab.research.google.com/github/Silima1/Machine_learning_emprestimos_-_rendas/blob/main/NO%C3%87%C3%95ES%20BASICAS%20DE%20PYTHON.ipynb\" target=\"_parent\"><img src=\"https://colab.research.google.com/assets/colab-badge.svg\" alt=\"Open In Colab\"/></a>"
      ]
    },
    {
      "cell_type": "markdown",
      "metadata": {
        "id": "Aw-C68h3uipz"
      },
      "source": [
        "# Manipulação de variaveis \n"
      ]
    },
    {
      "cell_type": "code",
      "execution_count": null,
      "metadata": {
        "id": "sR02K5ZVuip8",
        "outputId": "68bc0068-aaaa-4afe-dd52-419916963520",
        "colab": {
          "base_uri": "https://localhost:8080/"
        }
      },
      "outputs": [
        {
          "output_type": "stream",
          "name": "stdout",
          "text": [
            "Silima\n",
            "27\n",
            " Confirmado Silima a tua idade eh 27  anos de idade\n"
          ]
        }
      ],
      "source": [
        "nome = input()\n",
        "idade = input()\n",
        "print(' Confirmado', nome, 'a tua idade eh', idade , ' anos de idade')\n"
      ]
    },
    {
      "cell_type": "code",
      "source": [
        "a = 3\n",
        "b = 10\n",
        "ph = a*b/100*100\n",
        "if ph>=27:\n",
        "  print(\"Deve iniciar a medicacao com urgencia\", 'seu ph ', ph)\n",
        "elif ph<= 27:\n",
        "  print('Saudavel', 'seu ph ', ph)\n",
        "elif ph==0:\n",
        "    print('parar consumo de bebidas alcolicas', 'seu ph ', ph)\n",
        "else:\n",
        "  print('Deve eliminar o consumo do alcool', 'seu ph ', ph)\n"
      ],
      "metadata": {
        "id": "CdGXzniwv60B",
        "outputId": "b30c8942-e778-48e0-d7f9-cdce44015d43",
        "colab": {
          "base_uri": "https://localhost:8080/"
        }
      },
      "execution_count": null,
      "outputs": [
        {
          "output_type": "stream",
          "name": "stdout",
          "text": [
            "Deve iniciar a medicacao com urgencia seu ph  30.0\n"
          ]
        }
      ]
    },
    {
      "cell_type": "markdown",
      "source": [
        "**MANIPULAÇÃO DE STRINGS**"
      ],
      "metadata": {
        "id": "yNFaDoc873Bc"
      }
    },
    {
      "cell_type": "code",
      "source": [
        "a = 'casaco'\n",
        "print(a)"
      ],
      "metadata": {
        "id": "XY0cG2jCvn7c",
        "colab": {
          "base_uri": "https://localhost:8080/"
        },
        "outputId": "e986a129-5414-43e0-a447-473be5ec11d8"
      },
      "execution_count": null,
      "outputs": [
        {
          "output_type": "stream",
          "name": "stdout",
          "text": [
            "casaco\n"
          ]
        }
      ]
    },
    {
      "cell_type": "code",
      "source": [
        "maiusculas = a.upper() # conversao de minusculas para maiusculas\n",
        "print(maiusculas)"
      ],
      "metadata": {
        "colab": {
          "base_uri": "https://localhost:8080/"
        },
        "id": "8oF1DM0G-WEu",
        "outputId": "a137057a-571b-40e2-cab4-f5b79dc746a3"
      },
      "execution_count": null,
      "outputs": [
        {
          "output_type": "stream",
          "name": "stdout",
          "text": [
            "CASACO\n"
          ]
        }
      ]
    },
    {
      "cell_type": "code",
      "source": [
        "minusculas = a.lower() # convertendo de maiusculas para minusculas\n",
        "print(minusculas)"
      ],
      "metadata": {
        "colab": {
          "base_uri": "https://localhost:8080/"
        },
        "id": "BrVfU17W_Kj1",
        "outputId": "cdbf3d3d-6667-4d3c-a785-2fdcc00a360a"
      },
      "execution_count": null,
      "outputs": [
        {
          "output_type": "stream",
          "name": "stdout",
          "text": [
            "casaco\n"
          ]
        }
      ]
    },
    {
      "cell_type": "code",
      "source": [
        "inicial = a.capitalize() # Inicial maiuscula\n",
        "print(inicial)"
      ],
      "metadata": {
        "colab": {
          "base_uri": "https://localhost:8080/"
        },
        "id": "NwW-Hoj__e37",
        "outputId": "1ddc53e5-4826-4f3d-a8d4-0040da905fef"
      },
      "execution_count": null,
      "outputs": [
        {
          "output_type": "stream",
          "name": "stdout",
          "text": [
            "Casaco\n"
          ]
        }
      ]
    },
    {
      "cell_type": "code",
      "source": [
        "metade_da_palavra = a[0:3] # da posicao  0 ate a 2 \n",
        "print(metade_da_palavra)"
      ],
      "metadata": {
        "colab": {
          "base_uri": "https://localhost:8080/"
        },
        "id": "YFU36qs__xib",
        "outputId": "8e582d64-d36d-4862-ae04-2bd095235f6f"
      },
      "execution_count": null,
      "outputs": [
        {
          "output_type": "stream",
          "name": "stdout",
          "text": [
            "cas\n"
          ]
        }
      ]
    },
    {
      "cell_type": "code",
      "source": [
        "utltimas_letras = a[3:] # apenas seleciona do inidice atual ao final\n",
        "print(utltimas_letras)"
      ],
      "metadata": {
        "colab": {
          "base_uri": "https://localhost:8080/"
        },
        "id": "hEg7zUi9AbJ1",
        "outputId": "84432e86-a9b8-4acc-cddd-f9796557b238"
      },
      "execution_count": null,
      "outputs": [
        {
          "output_type": "stream",
          "name": "stdout",
          "text": [
            "aco\n"
          ]
        }
      ]
    },
    {
      "cell_type": "code",
      "source": [
        "substituir = a.replace('aco', 'inha') # substituicao de aco com inha\n",
        "print(substituir)"
      ],
      "metadata": {
        "colab": {
          "base_uri": "https://localhost:8080/"
        },
        "id": "IFGuyPduBEKZ",
        "outputId": "8c918562-d0fc-42a7-ab21-35869c83b0c8"
      },
      "execution_count": null,
      "outputs": [
        {
          "output_type": "stream",
          "name": "stdout",
          "text": [
            "casinha\n"
          ]
        }
      ]
    },
    {
      "cell_type": "code",
      "source": [
        "c = a.replace('o', 'a') # substituir o por a\n",
        "print(c)"
      ],
      "metadata": {
        "colab": {
          "base_uri": "https://localhost:8080/"
        },
        "id": "OO3mayq_A8h_",
        "outputId": "372a29ff-6a87-4876-e49e-fa44cbf7a253"
      },
      "execution_count": null,
      "outputs": [
        {
          "output_type": "stream",
          "name": "stdout",
          "text": [
            "casaca\n"
          ]
        }
      ]
    },
    {
      "cell_type": "code",
      "source": [
        "# Localiza a letra s\n",
        "c.find('s')"
      ],
      "metadata": {
        "colab": {
          "base_uri": "https://localhost:8080/"
        },
        "id": "HRAFi78iB2GR",
        "outputId": "ceb6f255-853c-46e6-aeec-94391930c72b"
      },
      "execution_count": null,
      "outputs": [
        {
          "output_type": "execute_result",
          "data": {
            "text/plain": [
              "2"
            ]
          },
          "metadata": {},
          "execution_count": 25
        }
      ]
    },
    {
      "cell_type": "code",
      "source": [
        "# visualizar o tamanho\n",
        "e = ' casaco '\n",
        "print(len(e))"
      ],
      "metadata": {
        "colab": {
          "base_uri": "https://localhost:8080/"
        },
        "id": "jnAyClU1CGK2",
        "outputId": "a808c290-ec60-4aa8-fee8-84ac1f815731"
      },
      "execution_count": null,
      "outputs": [
        {
          "output_type": "stream",
          "name": "stdout",
          "text": [
            "8\n"
          ]
        }
      ]
    },
    {
      "cell_type": "code",
      "source": [
        "# remover espacos em branco\n",
        "f = e.strip()\n",
        "print(f)"
      ],
      "metadata": {
        "colab": {
          "base_uri": "https://localhost:8080/"
        },
        "id": "pDVtERgMCRlw",
        "outputId": "1280fd49-3f12-4a9e-8727-318e994b897a"
      },
      "execution_count": null,
      "outputs": [
        {
          "output_type": "stream",
          "name": "stdout",
          "text": [
            "casaco\n"
          ]
        }
      ]
    },
    {
      "cell_type": "code",
      "source": [
        "print(len(f))"
      ],
      "metadata": {
        "colab": {
          "base_uri": "https://localhost:8080/"
        },
        "id": "J_C1LfjuCdZ1",
        "outputId": "d04377e1-9366-451f-e83f-e40ac11c7ffc"
      },
      "execution_count": null,
      "outputs": [
        {
          "output_type": "stream",
          "name": "stdout",
          "text": [
            "6\n"
          ]
        }
      ]
    },
    {
      "cell_type": "code",
      "source": [
        "# Concatenar variaveis \n",
        "n1 = 650\n",
        "n2 = 750\n",
        "n3 = 1000"
      ],
      "metadata": {
        "id": "uGoopHCFC6IV"
      },
      "execution_count": null,
      "outputs": []
    },
    {
      "cell_type": "code",
      "source": [
        "from ast import Raise\n",
        "print(f'o resultado  de {n1},  {n2} e {n3} sera igual a {n1*n2*n3*48*2250/2}' )"
      ],
      "metadata": {
        "colab": {
          "base_uri": "https://localhost:8080/"
        },
        "id": "cox0CFVADGa5",
        "outputId": "b4a4d0f1-7fd7-4a46-a653-bf45dbf896b5"
      },
      "execution_count": null,
      "outputs": [
        {
          "output_type": "stream",
          "name": "stdout",
          "text": [
            "o resultado  de 650,  750 e 1000 sera igual a 26325000000000.0\n"
          ]
        }
      ]
    },
    {
      "cell_type": "code",
      "source": [
        "import math # Raizes\n",
        "math.sqrt(49)"
      ],
      "metadata": {
        "colab": {
          "base_uri": "https://localhost:8080/"
        },
        "id": "N0HmMSmvGVFX",
        "outputId": "765a0df9-289f-40b6-bafe-d5a6a164f3d7"
      },
      "execution_count": null,
      "outputs": [
        {
          "output_type": "execute_result",
          "data": {
            "text/plain": [
              "7.0"
            ]
          },
          "metadata": {},
          "execution_count": 49
        }
      ]
    },
    {
      "cell_type": "code",
      "source": [
        "# ARREDONDAMENTOS\n",
        "casos_de_doencas = 134\n",
        "numero_habitantes = 34598\n",
        "casos_por_habitante = casos_de_doencas/numero_habitantes\n",
        "print (casos_por_habitante)\n"
      ],
      "metadata": {
        "colab": {
          "base_uri": "https://localhost:8080/"
        },
        "id": "toVrqWg8Grj6",
        "outputId": "4344f670-915d-491f-97d9-afa1350a817d"
      },
      "execution_count": null,
      "outputs": [
        {
          "output_type": "stream",
          "name": "stdout",
          "text": [
            "0.003873056246025782\n"
          ]
        }
      ]
    },
    {
      "cell_type": "code",
      "source": [
        "round(casos_por_habitante, 6)"
      ],
      "metadata": {
        "colab": {
          "base_uri": "https://localhost:8080/"
        },
        "id": "p1kijkb7HyoT",
        "outputId": "a3ce6a09-4af6-4bc1-8225-d0c98912d43e"
      },
      "execution_count": null,
      "outputs": [
        {
          "output_type": "execute_result",
          "data": {
            "text/plain": [
              "0.003873"
            ]
          },
          "metadata": {},
          "execution_count": 56
        }
      ]
    },
    {
      "cell_type": "code",
      "source": [
        "print(f' o numero de casos por habitantes e de {round(casos_por_habitante, 4)}')"
      ],
      "metadata": {
        "colab": {
          "base_uri": "https://localhost:8080/"
        },
        "id": "XigJuZGCH_J9",
        "outputId": "e462180f-63f9-49f1-d8c0-47c7667b48c5"
      },
      "execution_count": null,
      "outputs": [
        {
          "output_type": "stream",
          "name": "stdout",
          "text": [
            " o numero de casos por habitantes e de 0.0039\n"
          ]
        }
      ]
    },
    {
      "cell_type": "code",
      "source": [],
      "metadata": {
        "id": "6odpkKSrIumE"
      },
      "execution_count": null,
      "outputs": []
    },
    {
      "cell_type": "code",
      "source": [
        "num1 = int(input('Digite o primeiro numero: '))\n",
        "num2 = int(input('Digite o segundo numero: '))\n",
        "print(f'O resultado desta adicao eh: {num1 + num2}')"
      ],
      "metadata": {
        "colab": {
          "base_uri": "https://localhost:8080/"
        },
        "id": "W5fIu1iyIvLh",
        "outputId": "48496e30-ce78-4013-9c49-cb027cfa9ad7"
      },
      "execution_count": null,
      "outputs": [
        {
          "output_type": "stream",
          "name": "stdout",
          "text": [
            "Digite o primeiro numero: 34\n",
            "Digite o segundo numero: 56\n",
            "O resultado desta adicao eh: 90\n"
          ]
        }
      ]
    },
    {
      "cell_type": "code",
      "source": [
        "num1 = int(input('Digite o primeiro numero: '))\n",
        "num2 = int(input('Digite o segundo numero: '))\n",
        "print(f'o resultado da subtracao de {num1} e {num2} eh {num1 - num2}')"
      ],
      "metadata": {
        "colab": {
          "base_uri": "https://localhost:8080/"
        },
        "id": "5drrjDKhJRNZ",
        "outputId": "8f527f99-04b7-4478-b0e7-dccfe4ff7a2e"
      },
      "execution_count": null,
      "outputs": [
        {
          "output_type": "stream",
          "name": "stdout",
          "text": [
            "Digite o primeiro numero: 23\n",
            "Digite o segundo numero: 25\n",
            "o resultado da subtracao de 23 e 25 eh -2\n"
          ]
        }
      ]
    },
    {
      "cell_type": "code",
      "source": [
        "num1 = int(input('Digite o primeiro numero: '))\n",
        "num2 = int(input('Digite o segundo numero: '))\n",
        "print(f'o resultado da multiplicacao de {num1} e {num2} e {num1 * num2}')"
      ],
      "metadata": {
        "colab": {
          "base_uri": "https://localhost:8080/"
        },
        "id": "1vXu0NeAJco3",
        "outputId": "7f98a65f-3504-4d67-cf9d-2a3207bf15d0"
      },
      "execution_count": null,
      "outputs": [
        {
          "output_type": "stream",
          "name": "stdout",
          "text": [
            "Digite o primeiro numero: 56\n",
            "Digite o segundo numero: 99\n",
            "o resultado da multiplicacao de 56 e 99 e 5544\n"
          ]
        }
      ]
    },
    {
      "cell_type": "code",
      "source": [
        "num1 = int(input('Digite o primeiro numero: '))\n",
        "num2 = int(input('Digite o segundo numero: '))\n",
        "print(f'o resultado da divisao de {num1} e {num2} e {num1 / num2}')"
      ],
      "metadata": {
        "colab": {
          "base_uri": "https://localhost:8080/"
        },
        "id": "ZMGM8PPpJmQ4",
        "outputId": "8a5103a1-26a2-469c-ea0c-2d8d0135150f"
      },
      "execution_count": null,
      "outputs": [
        {
          "output_type": "stream",
          "name": "stdout",
          "text": [
            "Digite o primeiro numero: 890\n",
            "Digite o segundo numero: 890\n",
            "o resultado da divisao de 890 e 890 e 1.0\n"
          ]
        }
      ]
    },
    {
      "cell_type": "markdown",
      "source": [
        "Calculo de velocidade distancia e quantidade de litros gastos sabendo que 1l equivale a 12 km"
      ],
      "metadata": {
        "id": "TjJEIJG1NiY4"
      }
    },
    {
      "cell_type": "code",
      "source": [
        "tempo = float(input('Tempo: '))\n",
        "velocidade = int(input('Velocidade media: '))\n",
        "distancia = tempo*velocidade\n",
        "QLkm = float(input('km por litro '))\n",
        "litros_usados = distancia/QLkm \n",
        "print(f' O tempo gasto foi de {tempo}h \\n A velocidade media foi de {velocidade}km/h \\n e a distancia percorrida foi de {round(distancia,2)}km, \\n contudo o combustivel usado foi de {round(litros_usados, 2,)} Litros')\n"
      ],
      "metadata": {
        "colab": {
          "base_uri": "https://localhost:8080/"
        },
        "id": "6sk2WFseJspD",
        "outputId": "84a94b41-c698-44b8-98d3-de435347eeef"
      },
      "execution_count": null,
      "outputs": [
        {
          "output_type": "stream",
          "name": "stdout",
          "text": [
            "Tempo: 9\n",
            "Velocidade media: 65\n",
            "km por litro 15\n",
            " O tempo gasto foi de 9.0h \n",
            " A velocidade media foi de 65km/h \n",
            " e a distancia percorrida foi de 585.0km, \n",
            " contudo o combustivel usado foi de 39.0 Litros\n"
          ]
        }
      ]
    },
    {
      "cell_type": "markdown",
      "metadata": {
        "id": "NUd2umL9uip_"
      },
      "source": [
        "### Vamos agora trabalhar com operadores logicos e relacionais"
      ]
    },
    {
      "cell_type": "code",
      "execution_count": null,
      "metadata": {
        "id": "W1VWVfI3uiqA"
      },
      "outputs": [],
      "source": [
        "a = True\n",
        "b = False"
      ]
    },
    {
      "cell_type": "code",
      "source": [
        "a and b"
      ],
      "metadata": {
        "colab": {
          "base_uri": "https://localhost:8080/"
        },
        "id": "gl5nwDh_gC1L",
        "outputId": "914d6001-5579-4d30-ff0e-6cf66d645fd2"
      },
      "execution_count": null,
      "outputs": [
        {
          "output_type": "execute_result",
          "data": {
            "text/plain": [
              "False"
            ]
          },
          "metadata": {},
          "execution_count": 2
        }
      ]
    },
    {
      "cell_type": "code",
      "source": [
        "a & b # corresponde ao AND"
      ],
      "metadata": {
        "colab": {
          "base_uri": "https://localhost:8080/"
        },
        "id": "Va3EB9wcgF1K",
        "outputId": "796073f9-a2d4-447a-a298-b92cd32e1e81"
      },
      "execution_count": null,
      "outputs": [
        {
          "output_type": "execute_result",
          "data": {
            "text/plain": [
              "False"
            ]
          },
          "metadata": {},
          "execution_count": 3
        }
      ]
    },
    {
      "cell_type": "code",
      "source": [
        "a | b # corresponde ao OR"
      ],
      "metadata": {
        "colab": {
          "base_uri": "https://localhost:8080/"
        },
        "id": "_QCiyMnZgMKc",
        "outputId": "0369ea9a-b328-40eb-e166-96f51ac9e117"
      },
      "execution_count": null,
      "outputs": [
        {
          "output_type": "execute_result",
          "data": {
            "text/plain": [
              "True"
            ]
          },
          "metadata": {},
          "execution_count": 4
        }
      ]
    },
    {
      "cell_type": "code",
      "source": [
        "a or b"
      ],
      "metadata": {
        "colab": {
          "base_uri": "https://localhost:8080/"
        },
        "id": "w0nx5547gSBm",
        "outputId": "d1692a97-12e4-4319-cdd9-a6462d5a5d60"
      },
      "execution_count": null,
      "outputs": [
        {
          "output_type": "execute_result",
          "data": {
            "text/plain": [
              "True"
            ]
          },
          "metadata": {},
          "execution_count": 5
        }
      ]
    },
    {
      "cell_type": "code",
      "source": [
        "a == b"
      ],
      "metadata": {
        "colab": {
          "base_uri": "https://localhost:8080/"
        },
        "id": "ZYrlgVh7gdOD",
        "outputId": "9873d525-f2f8-44f3-f0a7-473de3f8e5f0"
      },
      "execution_count": null,
      "outputs": [
        {
          "output_type": "execute_result",
          "data": {
            "text/plain": [
              "False"
            ]
          },
          "metadata": {},
          "execution_count": 6
        }
      ]
    },
    {
      "cell_type": "code",
      "source": [
        "a = 17\n",
        "b = 18"
      ],
      "metadata": {
        "id": "1DPP4tONg8TO"
      },
      "execution_count": null,
      "outputs": []
    },
    {
      "cell_type": "code",
      "source": [
        "a & b == 17 # igualdade"
      ],
      "metadata": {
        "colab": {
          "base_uri": "https://localhost:8080/"
        },
        "id": "wZgt7wLdhE36",
        "outputId": "d66470f7-f56d-455d-bcdb-b54bf16376d6"
      },
      "execution_count": null,
      "outputs": [
        {
          "output_type": "execute_result",
          "data": {
            "text/plain": [
              "False"
            ]
          },
          "metadata": {},
          "execution_count": 9
        }
      ]
    },
    {
      "cell_type": "code",
      "source": [
        "a + b/2 == 17.5"
      ],
      "metadata": {
        "colab": {
          "base_uri": "https://localhost:8080/"
        },
        "id": "vGaJAI7hhqeE",
        "outputId": "8cbf205d-aeb6-46af-e78b-ec907af27d97"
      },
      "execution_count": null,
      "outputs": [
        {
          "output_type": "execute_result",
          "data": {
            "text/plain": [
              "False"
            ]
          },
          "metadata": {},
          "execution_count": 18
        }
      ]
    },
    {
      "cell_type": "code",
      "source": [
        "c = a + b\n",
        "c"
      ],
      "metadata": {
        "colab": {
          "base_uri": "https://localhost:8080/"
        },
        "id": "btQpyBWoh1Zp",
        "outputId": "21bb8b31-7573-4427-a39e-ae88626a9fac"
      },
      "execution_count": null,
      "outputs": [
        {
          "output_type": "execute_result",
          "data": {
            "text/plain": [
              "35"
            ]
          },
          "metadata": {},
          "execution_count": 20
        }
      ]
    },
    {
      "cell_type": "code",
      "source": [
        "d = c/2\n",
        "d"
      ],
      "metadata": {
        "colab": {
          "base_uri": "https://localhost:8080/"
        },
        "id": "Ncgm9lnkiU3u",
        "outputId": "94278383-caac-4fbe-9acb-b967f65d8b1c"
      },
      "execution_count": null,
      "outputs": [
        {
          "output_type": "execute_result",
          "data": {
            "text/plain": [
              "17.5"
            ]
          },
          "metadata": {},
          "execution_count": 22
        }
      ]
    },
    {
      "cell_type": "code",
      "source": [
        "d>=c"
      ],
      "metadata": {
        "colab": {
          "base_uri": "https://localhost:8080/"
        },
        "id": "LqFmH5-miegY",
        "outputId": "d9e07933-48f7-4e3c-ed23-d3efcb980422"
      },
      "execution_count": null,
      "outputs": [
        {
          "output_type": "execute_result",
          "data": {
            "text/plain": [
              "False"
            ]
          },
          "metadata": {},
          "execution_count": 23
        }
      ]
    },
    {
      "cell_type": "code",
      "source": [
        "d!=a # diferente"
      ],
      "metadata": {
        "colab": {
          "base_uri": "https://localhost:8080/"
        },
        "id": "NpS8zYRpijvu",
        "outputId": "a3c6f8fd-a759-4138-8a62-2c75f2d006e6"
      },
      "execution_count": null,
      "outputs": [
        {
          "output_type": "execute_result",
          "data": {
            "text/plain": [
              "True"
            ]
          },
          "metadata": {},
          "execution_count": 24
        }
      ]
    },
    {
      "cell_type": "code",
      "source": [],
      "metadata": {
        "id": "r8k2S5Hci3nR"
      },
      "execution_count": null,
      "outputs": []
    },
    {
      "cell_type": "markdown",
      "metadata": {
        "id": "vWhcgSX4uiqB"
      },
      "source": [
        "### Vamos agora trabalhar com operadores condicionais"
      ]
    },
    {
      "cell_type": "code",
      "execution_count": null,
      "metadata": {
        "id": "MX7lBFiDuiqC",
        "colab": {
          "base_uri": "https://localhost:8080/"
        },
        "outputId": "69a3ace6-a0a7-45f2-d08e-8784a1876979"
      },
      "outputs": [
        {
          "output_type": "stream",
          "name": "stdout",
          "text": [
            "Nota do exame escrito candidato 16\n",
            "Nota da entrevista do candidato 12\n",
            "O canditado possui qualidade para ser solicitado posteriorimente! aguarde por favor 14.0\n"
          ]
        }
      ],
      "source": [
        "a = float(input('Nota do exame escrito candidato '))\n",
        "b = float(input('Nota da entrevista do candidato '))\n",
        "c = a + b\n",
        "d = c/2\n",
        "\n",
        "if d >= 17:\n",
        "  print('Ganhou bolsa com nota ', d)\n",
        "elif d >= 16:\n",
        "  print('Aprovado, mas condicionado a vaga', d)\n",
        "elif d < 16 and d >= 14:\n",
        "  print('O canditado possui qualidade para ser solicitado posteriorimente! aguarde por favor', d)\n",
        "elif d >= 13:\n",
        "  print('Recomendamos-te as proximas candaturas', d)\n",
        "else:\n",
        "  print('Lamentamos não podemos avançar com a candidatura e recomendamos-te um curso profissional', d)"
      ]
    },
    {
      "cell_type": "markdown",
      "metadata": {
        "id": "H_73oQXcuiqC"
      },
      "source": [
        "#### GESTAO DE IDADES"
      ]
    },
    {
      "cell_type": "code",
      "execution_count": null,
      "metadata": {
        "id": "_M4aneD5uiqE",
        "colab": {
          "base_uri": "https://localhost:8080/"
        },
        "outputId": "b5ac0478-93ba-4ab1-f752-4067ca0074ab"
      },
      "outputs": [
        {
          "output_type": "stream",
          "name": "stdout",
          "text": [
            "Digite a idade idade: -2\n",
            "valor invalido, digite valores positivos por favor\n"
          ]
        }
      ],
      "source": [
        "idade = int(input('Digite a idade idade: '))\n",
        "if idade >= 0 and idade <=12:\n",
        "  print(f'É uma criança com {idade} anos de idade')\n",
        "elif idade > 12 and idade <18:\n",
        "  print(f' É um adolescente com {idade} anos de idade')\n",
        "elif idade >=18:\n",
        "  print(f' É um adulto com {idade} anos de idade')\n",
        "else:\n",
        "  print('valor invalido, digite valores positivos por favor')"
      ]
    },
    {
      "cell_type": "code",
      "source": [
        "#CALCULO DE 3 NOTAS PARA DEFINIR DISPENSA AO EXAME E APROVACAO OU REPROVACAO\n",
        "nota1 = float(input('Nota de M1 '))\n",
        "nota2 = float(input('Nota de M2 '))\n",
        "nota3 = float(input('Nota de M3 '))\n",
        "Media = (nota1 + nota2 + nota3) /3\n",
        "\n",
        "if Media >= 0 and Media <= 4:\n",
        "  print(f'REPROVADO com media {Media} valores')\n",
        "elif Media >=6 and Media <= 6.5:\n",
        "  exame = float(input('Digite a nota do exame: '))\n",
        "  if exame >= 6:\n",
        "    print(f'Aprovado com nota do exame {exame}')\n",
        "  else:\n",
        "    print('Reprovado ao exama com nota ', exame)\n",
        "elif  Media >= 6.6:\n",
        "  print(f'DISPENSADO com media {Media} valores')\n",
        "else:\n",
        "  print('Faltou ao exame', Media)\n"
      ],
      "metadata": {
        "colab": {
          "base_uri": "https://localhost:8080/"
        },
        "id": "limycqXduiR6",
        "outputId": "bd392fa0-8ded-42cd-98cb-0df3939bce47"
      },
      "execution_count": null,
      "outputs": [
        {
          "output_type": "stream",
          "name": "stdout",
          "text": [
            "Nota de M1 19\n",
            "Nota de M2 18\n",
            "Nota de M3 15\n",
            "DISPENSADO com media 17.333333333333332 valores\n"
          ]
        }
      ]
    },
    {
      "cell_type": "markdown",
      "source": [
        "#ESTRUTURA DE REPETICAO FOR E WHILE"
      ],
      "metadata": {
        "id": "o9wRQWCGMAj_"
      }
    },
    {
      "cell_type": "code",
      "source": [
        "print(1)\n",
        "print(2)\n",
        "print(3)\n",
        "print(4)\n",
        "print(5)"
      ],
      "metadata": {
        "id": "0cO7C1XBL-0M",
        "colab": {
          "base_uri": "https://localhost:8080/"
        },
        "outputId": "c065682e-bb9b-445d-d3c9-86673bfe730c"
      },
      "execution_count": null,
      "outputs": [
        {
          "output_type": "stream",
          "name": "stdout",
          "text": [
            "1\n",
            "2\n",
            "3\n",
            "4\n",
            "5\n"
          ]
        }
      ]
    },
    {
      "cell_type": "code",
      "source": [
        "for vqualquer in range(1, 7):\n",
        "  print(vqualquer)"
      ],
      "metadata": {
        "id": "EQCqBYYUL-eA",
        "colab": {
          "base_uri": "https://localhost:8080/"
        },
        "outputId": "b4e84c18-6b24-44a3-9fa1-dd96216933a4"
      },
      "execution_count": null,
      "outputs": [
        {
          "output_type": "stream",
          "name": "stdout",
          "text": [
            "1\n",
            "2\n",
            "3\n",
            "4\n",
            "5\n",
            "6\n"
          ]
        }
      ]
    },
    {
      "cell_type": "code",
      "source": [
        "for vqualquer in range(7, 0, -2):\n",
        "  print(vqualquer)"
      ],
      "metadata": {
        "colab": {
          "base_uri": "https://localhost:8080/"
        },
        "id": "9kRrJUodaj11",
        "outputId": "a626c349-5c34-4d9f-9b8e-94c9990c9632"
      },
      "execution_count": null,
      "outputs": [
        {
          "output_type": "stream",
          "name": "stdout",
          "text": [
            "7\n",
            "5\n",
            "3\n",
            "1\n"
          ]
        }
      ]
    },
    {
      "cell_type": "code",
      "source": [
        "soma = 0\n",
        "for i in range(1, 6): # vai sempre adicionando o valor da posicao seguinte\n",
        "  soma = soma + i\n",
        "  #print(soma) #valores parciais\n",
        "print(soma) # soma global\n"
      ],
      "metadata": {
        "colab": {
          "base_uri": "https://localhost:8080/"
        },
        "id": "I1QiJqavcdbB",
        "outputId": "11a9b95d-4ee9-4ff4-97c3-fa178d8011d0"
      },
      "execution_count": null,
      "outputs": [
        {
          "output_type": "stream",
          "name": "stdout",
          "text": [
            "15\n"
          ]
        }
      ]
    },
    {
      "cell_type": "code",
      "source": [
        "somado = ['Leonel, Silima, bla, bla']\n",
        "for i in range(1, 10): # vai sempre adicionando o valor da posicao seguinte\n",
        "  #soma = soma + i\n",
        "  print(somado)\n",
        "#print(somado) # soma global"
      ],
      "metadata": {
        "colab": {
          "base_uri": "https://localhost:8080/"
        },
        "id": "7Q7nH9lgcqDn",
        "outputId": "8b75bdcf-985c-4103-dc1e-029ce85fe9de"
      },
      "execution_count": null,
      "outputs": [
        {
          "output_type": "stream",
          "name": "stdout",
          "text": [
            "['Leonel, Silima, bla, bla']\n",
            "['Leonel, Silima, bla, bla']\n",
            "['Leonel, Silima, bla, bla']\n",
            "['Leonel, Silima, bla, bla']\n",
            "['Leonel, Silima, bla, bla']\n",
            "['Leonel, Silima, bla, bla']\n",
            "['Leonel, Silima, bla, bla']\n",
            "['Leonel, Silima, bla, bla']\n",
            "['Leonel, Silima, bla, bla']\n"
          ]
        }
      ]
    },
    {
      "cell_type": "code",
      "source": [
        "myName = 'Leonel'\n",
        "for nome in myName: # vai sempre adicionando o valor da posicao seguint\n",
        "  if nome == 'l':\n",
        "    print(\"Letra encontrada\")\n",
        "\n"
      ],
      "metadata": {
        "colab": {
          "base_uri": "https://localhost:8080/"
        },
        "id": "1BBLuU2wfNsw",
        "outputId": "5598ba83-7226-4362-bd15-dbd19ba56677"
      },
      "execution_count": null,
      "outputs": [
        {
          "output_type": "stream",
          "name": "stdout",
          "text": [
            "Letra encontrada\n"
          ]
        }
      ]
    },
    {
      "cell_type": "code",
      "source": [
        "for i in range(0, 5): # percorre todos os valores do for interno\n",
        "  print(i)\n",
        "  print('------')\n",
        "  for j in range (0, 3):\n",
        "    print(j)\n",
        "  print()"
      ],
      "metadata": {
        "colab": {
          "base_uri": "https://localhost:8080/"
        },
        "id": "sj9QZW7Eifw4",
        "outputId": "1d2bc6b3-56e2-47df-91b6-6472a38ce6e4"
      },
      "execution_count": null,
      "outputs": [
        {
          "output_type": "stream",
          "name": "stdout",
          "text": [
            "0\n",
            "------\n",
            "0\n",
            "1\n",
            "2\n",
            "\n",
            "1\n",
            "------\n",
            "0\n",
            "1\n",
            "2\n",
            "\n",
            "2\n",
            "------\n",
            "0\n",
            "1\n",
            "2\n",
            "\n",
            "3\n",
            "------\n",
            "0\n",
            "1\n",
            "2\n",
            "\n",
            "4\n",
            "------\n",
            "0\n",
            "1\n",
            "2\n",
            "\n"
          ]
        }
      ]
    },
    {
      "cell_type": "markdown",
      "source": [
        "#WHILE"
      ],
      "metadata": {
        "id": "YOXdHLBOkatd"
      }
    },
    {
      "cell_type": "code",
      "source": [
        "numero = 2\n",
        "while numero < 10:\n",
        "  print(numero)\n",
        "  numero += 1\n",
        "print('-----')"
      ],
      "metadata": {
        "colab": {
          "base_uri": "https://localhost:8080/"
        },
        "id": "-oFrrHJ0kZFg",
        "outputId": "49dcc498-428f-4146-d3ee-fdabfb1ac3a9"
      },
      "execution_count": null,
      "outputs": [
        {
          "output_type": "stream",
          "name": "stdout",
          "text": [
            "2\n",
            "3\n",
            "4\n",
            "5\n",
            "6\n",
            "7\n",
            "8\n",
            "9\n",
            "-----\n"
          ]
        }
      ]
    },
    {
      "cell_type": "code",
      "source": [
        "numero = 7\n",
        "while numero > 2:\n",
        "  print(numero)\n",
        "  numero -= 1\n",
        "print('-----')"
      ],
      "metadata": {
        "id": "PFYqBXuemqG5",
        "colab": {
          "base_uri": "https://localhost:8080/"
        },
        "outputId": "e5456ba4-0a8c-45e9-8514-3f2c37f98074"
      },
      "execution_count": null,
      "outputs": [
        {
          "output_type": "stream",
          "name": "stdout",
          "text": [
            "7\n",
            "6\n",
            "5\n",
            "4\n",
            "3\n",
            "-----\n"
          ]
        }
      ]
    },
    {
      "cell_type": "code",
      "source": [
        "1+2+3+4+5++6 # a seguir o exemplo com while"
      ],
      "metadata": {
        "id": "-wzXXvZJmqkx",
        "colab": {
          "base_uri": "https://localhost:8080/"
        },
        "outputId": "ed1a3f6d-85c0-467e-c2a3-3fdc2a242041"
      },
      "execution_count": null,
      "outputs": [
        {
          "output_type": "execute_result",
          "data": {
            "text/plain": [
              "21"
            ]
          },
          "metadata": {},
          "execution_count": 90
        }
      ]
    },
    {
      "cell_type": "code",
      "source": [
        "soma = 0\n",
        "numero = 1\n",
        "while numero < 7:\n",
        "  soma += numero\n",
        "  numero +=1\n",
        "print(soma)"
      ],
      "metadata": {
        "colab": {
          "base_uri": "https://localhost:8080/"
        },
        "id": "6xz4ZZI0onWk",
        "outputId": "23125b86-3345-4c02-c340-e54c85c5b084"
      },
      "execution_count": null,
      "outputs": [
        {
          "output_type": "stream",
          "name": "stdout",
          "text": [
            "21\n"
          ]
        }
      ]
    },
    {
      "cell_type": "code",
      "source": [
        "# validacao de numeros\n",
        "numero = 5\n",
        "numero = int(input(\"Digite teu mecanografico\"))\n",
        "while numero < 1 or numero >10:\n",
        "  print(\"Sucedido com sucesso\")\n",
        "else:\n",
        "  print(\"Tente novamente por favor\")"
      ],
      "metadata": {
        "colab": {
          "base_uri": "https://localhost:8080/"
        },
        "id": "Qa8KEBMLpwlz",
        "outputId": "47218b91-30c4-4f8c-929b-98520387b52a"
      },
      "execution_count": null,
      "outputs": [
        {
          "output_type": "stream",
          "name": "stdout",
          "text": [
            "Valor incorreto digite o valor valido\n"
          ]
        }
      ]
    },
    {
      "cell_type": "code",
      "source": [
        "# validacao de numeros\n",
        "numero = 12\n",
        "while numero < 1 or numero > 10:\n",
        "  numero = int (input('Digite teu mecanografico '))"
      ],
      "metadata": {
        "id": "C1tzO851rKQP",
        "colab": {
          "base_uri": "https://localhost:8080/"
        },
        "outputId": "f1720b2e-3e0e-4c13-a2cd-b6918cd2baec"
      },
      "execution_count": null,
      "outputs": [
        {
          "name": "stdout",
          "output_type": "stream",
          "text": [
            "Digite teu mecanografico 14\n",
            "Digite teu mecanografico 1\n"
          ]
        }
      ]
    },
    {
      "cell_type": "markdown",
      "source": [
        "#Resolucao de exercicios com for e while\n"
      ],
      "metadata": {
        "id": "WOsSMiWH3B3G"
      }
    },
    {
      "cell_type": "code",
      "source": [
        "nota = 0\n",
        "for i in range(1, 6):\n",
        "  nota = nota + i\n",
        "  media = nota/5\n",
        "print(f'A media eh {media}')\n"
      ],
      "metadata": {
        "colab": {
          "base_uri": "https://localhost:8080/"
        },
        "id": "vN5mavjB3IWb",
        "outputId": "caa03d0a-5263-4b82-d165-372242ee1d57"
      },
      "execution_count": null,
      "outputs": [
        {
          "output_type": "stream",
          "name": "stdout",
          "text": [
            "A media eh 3.0\n"
          ]
        }
      ]
    },
    {
      "cell_type": "code",
      "source": [
        "# Lendo 5 notas e imprimir a media\n",
        "nota = media = soma =0\n",
        "for _ in range(1,6):\n",
        "  nota = float(input(\"DIgite a nota: \"))\n",
        "  soma += nota\n",
        "print('A soma eh', soma)\n",
        "media = soma/5\n",
        "print('A media eh', media)"
      ],
      "metadata": {
        "colab": {
          "base_uri": "https://localhost:8080/"
        },
        "id": "2OrSOfwl8nOZ",
        "outputId": "99d98448-9384-4eeb-a430-b0430decb96d"
      },
      "execution_count": null,
      "outputs": [
        {
          "output_type": "stream",
          "name": "stdout",
          "text": [
            "DIgite a nota: 12\n",
            "DIgite a nota: 19\n",
            "DIgite a nota: 20\n",
            "DIgite a nota: 13\n",
            "DIgite a nota: 15\n",
            "A soma eh 79.0\n",
            "A media eh 15.8\n"
          ]
        }
      ]
    },
    {
      "cell_type": "code",
      "source": [
        "numero = 1\n",
        "somas = 0\n",
        "while numero <= 5:\n",
        "  nota = float(input('Nota '))\n",
        "  somas += nota\n",
        "  numero += 1\n",
        "print('A media eh', somas/5)"
      ],
      "metadata": {
        "colab": {
          "base_uri": "https://localhost:8080/"
        },
        "id": "ORr8wprZ6-pu",
        "outputId": "c00050ec-04ee-4407-d11f-524ebf35e4c8"
      },
      "execution_count": null,
      "outputs": [
        {
          "output_type": "stream",
          "name": "stdout",
          "text": [
            "Nota 15\n",
            "Nota 16\n",
            "Nota 17\n",
            "Nota 15\n",
            "Nota 13\n",
            "A media eh 15.2\n"
          ]
        }
      ]
    },
    {
      "cell_type": "markdown",
      "source": [
        "# TABUADA"
      ],
      "metadata": {
        "id": "WuEbZjGmCAOG"
      }
    },
    {
      "cell_type": "code",
      "source": [
        "for i in range (1, 21):\n",
        "  print('3 x {} = {}'.format(i, 3 * i))"
      ],
      "metadata": {
        "colab": {
          "base_uri": "https://localhost:8080/"
        },
        "id": "qd2FAQhfCEnG",
        "outputId": "e96cedba-0f10-4af0-fd71-a2bc6acb9e32"
      },
      "execution_count": null,
      "outputs": [
        {
          "output_type": "stream",
          "name": "stdout",
          "text": [
            "3 x 1 = 3\n",
            "3 x 2 = 6\n",
            "3 x 3 = 9\n",
            "3 x 4 = 12\n",
            "3 x 5 = 15\n",
            "3 x 6 = 18\n",
            "3 x 7 = 21\n",
            "3 x 8 = 24\n",
            "3 x 9 = 27\n",
            "3 x 10 = 30\n",
            "3 x 11 = 33\n",
            "3 x 12 = 36\n",
            "3 x 13 = 39\n",
            "3 x 14 = 42\n",
            "3 x 15 = 45\n",
            "3 x 16 = 48\n",
            "3 x 17 = 51\n",
            "3 x 18 = 54\n",
            "3 x 19 = 57\n",
            "3 x 20 = 60\n"
          ]
        }
      ]
    },
    {
      "cell_type": "code",
      "source": [
        "numero = 1\n",
        "while numero <= 15:\n",
        "  print('4 x {} = {}'.format(numero, 4 * numero))\n",
        "  numero +=1 # incrementar para evitar loop"
      ],
      "metadata": {
        "colab": {
          "base_uri": "https://localhost:8080/"
        },
        "id": "YFiRMnZIDM74",
        "outputId": "96a92c09-86fe-4fa4-dd22-567aaa9828c0"
      },
      "execution_count": null,
      "outputs": [
        {
          "output_type": "stream",
          "name": "stdout",
          "text": [
            "4 x 1 = 4\n",
            "4 x 2 = 8\n",
            "4 x 3 = 12\n",
            "4 x 4 = 16\n",
            "4 x 5 = 20\n",
            "4 x 6 = 24\n",
            "4 x 7 = 28\n",
            "4 x 8 = 32\n",
            "4 x 9 = 36\n",
            "4 x 10 = 40\n",
            "4 x 11 = 44\n",
            "4 x 12 = 48\n",
            "4 x 13 = 52\n",
            "4 x 14 = 56\n",
            "4 x 15 = 60\n"
          ]
        }
      ]
    },
    {
      "cell_type": "markdown",
      "source": [
        "  # COLECOES\n",
        "1.   TUPLAS\n",
        "2.   LISTAS\n",
        "1.   DICIONARIOS\n",
        "2.   CONJUNTOS\n",
        "\n",
        "\n",
        "\n"
      ],
      "metadata": {
        "id": "VAqXDQVXE7-k"
      }
    },
    {
      "cell_type": "code",
      "source": [
        "# TUPLAS\n",
        "jogadores = ('Lionel', 'CR7', 'Mane', 'Ndembele')"
      ],
      "metadata": {
        "id": "fdy-PxTfFVbY"
      },
      "execution_count": null,
      "outputs": []
    },
    {
      "cell_type": "code",
      "source": [
        "jogadores[0:4] # indices"
      ],
      "metadata": {
        "colab": {
          "base_uri": "https://localhost:8080/"
        },
        "id": "FyN81cgbFsgE",
        "outputId": "83fe6109-e8dd-4812-b7cd-129ae6eb23c4"
      },
      "execution_count": null,
      "outputs": [
        {
          "output_type": "execute_result",
          "data": {
            "text/plain": [
              "('Lionel', 'CR7', 'Mane', 'Ndembele')"
            ]
          },
          "metadata": {},
          "execution_count": 53
        }
      ]
    },
    {
      "cell_type": "code",
      "source": [
        "jogadores.index('Lionel')"
      ],
      "metadata": {
        "colab": {
          "base_uri": "https://localhost:8080/"
        },
        "id": "gCulAPh7Gy8q",
        "outputId": "b9061b2e-65ea-4b18-db9d-9fa41fa3ed8c"
      },
      "execution_count": null,
      "outputs": [
        {
          "output_type": "execute_result",
          "data": {
            "text/plain": [
              "0"
            ]
          },
          "metadata": {},
          "execution_count": 58
        }
      ]
    },
    {
      "cell_type": "code",
      "source": [
        "for lista in jogadores:\n",
        "  print(lista)"
      ],
      "metadata": {
        "colab": {
          "base_uri": "https://localhost:8080/"
        },
        "id": "D02uXXG5HWaV",
        "outputId": "33422ddf-9f10-4217-f20c-505c83067695"
      },
      "execution_count": null,
      "outputs": [
        {
          "output_type": "stream",
          "name": "stdout",
          "text": [
            "Lionel\n",
            "CR7\n",
            "Mane\n",
            "Ndembele\n"
          ]
        }
      ]
    },
    {
      "cell_type": "code",
      "source": [
        "# LISTA\n",
        "alunos_MIA = ['Ijip', 'Los', 'Hp', 'Miguel', 'Bruno']\n",
        "prof_MIA = ['Ciro', 'Mario', 'Pedro']"
      ],
      "metadata": {
        "id": "e7ZzNWR0F57D"
      },
      "execution_count": null,
      "outputs": []
    },
    {
      "cell_type": "code",
      "source": [
        "Lista_MIA = alunos_MIA + prof_MIA\n",
        "Lista_MIA"
      ],
      "metadata": {
        "colab": {
          "base_uri": "https://localhost:8080/"
        },
        "id": "US3v3HldHFjO",
        "outputId": "5e6ab01d-708e-464d-e429-ea46478cd760"
      },
      "execution_count": null,
      "outputs": [
        {
          "output_type": "execute_result",
          "data": {
            "text/plain": [
              "['Ijip', 'Los', 'Hp', 'Miguel', 'Bruno', 'Ciro', 'Mario', 'Pedro']"
            ]
          },
          "metadata": {},
          "execution_count": 73
        }
      ]
    },
    {
      "cell_type": "code",
      "source": [
        "alunos_MIA.append('Leandro') # ADICIONAR ELEMENTO NA LISTA\n",
        "alunos_MIA"
      ],
      "metadata": {
        "colab": {
          "base_uri": "https://localhost:8080/"
        },
        "id": "mWD3M80aGAJE",
        "outputId": "e40fab0c-1adf-414b-c488-4bc27d3111e7"
      },
      "execution_count": null,
      "outputs": [
        {
          "output_type": "execute_result",
          "data": {
            "text/plain": [
              "['Ijip', 'Los', 'Hp', 'Miguel', 'Bruno', 'Unknow', 'Leandro']"
            ]
          },
          "metadata": {},
          "execution_count": 78
        }
      ]
    },
    {
      "cell_type": "code",
      "source": [
        "alunos_MIA.remove('Unknow') # REMOVER ELEMENTO DA LISTA\n",
        "alunos_MIA"
      ],
      "metadata": {
        "colab": {
          "base_uri": "https://localhost:8080/"
        },
        "id": "Jhc9qZgtJ_qG",
        "outputId": "c6d96acc-0f70-4e67-d964-15b8512b43e0"
      },
      "execution_count": null,
      "outputs": [
        {
          "output_type": "execute_result",
          "data": {
            "text/plain": [
              "['Ijip', 'Los', 'Hp', 'Miguel', 'Bruno', 'Unknow']"
            ]
          },
          "metadata": {},
          "execution_count": 77
        }
      ]
    },
    {
      "cell_type": "code",
      "source": [
        "alunos_MIA.remove('Unknow')\n",
        "alunos_MIA"
      ],
      "metadata": {
        "colab": {
          "base_uri": "https://localhost:8080/"
        },
        "id": "yyEhBEV8Kxkz",
        "outputId": "1d62e7b0-f5d4-4533-b970-8a5005375e3e"
      },
      "execution_count": null,
      "outputs": [
        {
          "output_type": "execute_result",
          "data": {
            "text/plain": [
              "['Ijip', 'Los', 'Hp', 'Miguel', 'Bruno', 'Leandro']"
            ]
          },
          "metadata": {},
          "execution_count": 79
        }
      ]
    },
    {
      "cell_type": "code",
      "source": [
        "del(Lista_MIA) # APAGAR A LISTA"
      ],
      "metadata": {
        "id": "Hvc1q-MkL9DH"
      },
      "execution_count": null,
      "outputs": []
    },
    {
      "cell_type": "code",
      "source": [
        "for i in alunos_MIA[0:5]:\n",
        "  print(i)"
      ],
      "metadata": {
        "colab": {
          "base_uri": "https://localhost:8080/"
        },
        "id": "i73zM-pALjAK",
        "outputId": "78956bde-7bb1-4a30-d786-f51032f47971"
      },
      "execution_count": null,
      "outputs": [
        {
          "output_type": "stream",
          "name": "stdout",
          "text": [
            "Ijip\n",
            "Los\n",
            "Hp\n",
            "Miguel\n",
            "Bruno\n"
          ]
        }
      ]
    },
    {
      "cell_type": "markdown",
      "source": [
        "# Dicionario"
      ],
      "metadata": {
        "id": "qyMIjyeJMFtV"
      }
    },
    {
      "cell_type": "code",
      "source": [
        "ataques_por_empresas = {'DDoS': 100, 'worm': 24, 'rootkit': 30, 'trojan': 50}"
      ],
      "metadata": {
        "id": "IS3K7K8BKFCI"
      },
      "execution_count": null,
      "outputs": []
    },
    {
      "cell_type": "code",
      "source": [
        "ataques_por_empresas['rootkit'] #consulta do dicionario"
      ],
      "metadata": {
        "colab": {
          "base_uri": "https://localhost:8080/"
        },
        "id": "JXSMTkH3Pd-k",
        "outputId": "fdb8aad6-b648-40dc-82be-5779289a7509"
      },
      "execution_count": null,
      "outputs": [
        {
          "output_type": "execute_result",
          "data": {
            "text/plain": [
              "30"
            ]
          },
          "metadata": {},
          "execution_count": 88
        }
      ]
    },
    {
      "cell_type": "code",
      "source": [
        "ataques_por_empresas['Ransoware'] = 150 # ADICIONAR ELEMENTO NO DICIONARIO"
      ],
      "metadata": {
        "id": "kAeqcpEFQucq"
      },
      "execution_count": null,
      "outputs": []
    },
    {
      "cell_type": "code",
      "source": [
        "ataques_por_empresas['Ransoware']# CONSULTA"
      ],
      "metadata": {
        "colab": {
          "base_uri": "https://localhost:8080/"
        },
        "id": "2_q_Gg0fREVA",
        "outputId": "72c70907-9730-4412-e061-58e04854d00b"
      },
      "execution_count": null,
      "outputs": [
        {
          "output_type": "execute_result",
          "data": {
            "text/plain": [
              "150"
            ]
          },
          "metadata": {},
          "execution_count": 94
        }
      ]
    },
    {
      "cell_type": "code",
      "source": [
        "ataques_por_empresas = {'DDoS': 100, 'worm': 24, 'rootkit': 30, 'trojan': 50, 'Ransoware':200} # refeito"
      ],
      "metadata": {
        "id": "310Cu08MRfJz"
      },
      "execution_count": null,
      "outputs": []
    },
    {
      "cell_type": "code",
      "source": [
        "del(ataques_por_empresas)['worm'] # APAGAR ELEMENTO DA LISTA\n"
      ],
      "metadata": {
        "id": "hx0O6J-9SUmz"
      },
      "execution_count": null,
      "outputs": []
    },
    {
      "cell_type": "code",
      "source": [
        "ataques_por_empresas"
      ],
      "metadata": {
        "colab": {
          "base_uri": "https://localhost:8080/"
        },
        "id": "YKSJTiCjSpD1",
        "outputId": "30a0c507-dcf0-401b-f805-d37d629954d9"
      },
      "execution_count": null,
      "outputs": [
        {
          "output_type": "execute_result",
          "data": {
            "text/plain": [
              "{'DDoS': 100, 'rootkit': 30, 'trojan': 50, 'Ransoware': 200}"
            ]
          },
          "metadata": {},
          "execution_count": 101
        }
      ]
    },
    {
      "cell_type": "code",
      "source": [
        "ataques_por_empresas.keys() # Palavras chaves do dicionario"
      ],
      "metadata": {
        "colab": {
          "base_uri": "https://localhost:8080/"
        },
        "id": "O7pakU6ZPzJR",
        "outputId": "9416e578-641d-494f-ddfe-890cdf2f8755"
      },
      "execution_count": null,
      "outputs": [
        {
          "output_type": "execute_result",
          "data": {
            "text/plain": [
              "dict_keys(['DDoS', 'worm', 'rootkit', 'trojan'])"
            ]
          },
          "metadata": {},
          "execution_count": 89
        }
      ]
    },
    {
      "cell_type": "code",
      "source": [
        "ataques_por_empresas.values() # valores do dicionario"
      ],
      "metadata": {
        "colab": {
          "base_uri": "https://localhost:8080/"
        },
        "id": "DwVz-Qv1QAUu",
        "outputId": "93c3e0d4-6ede-4d07-bb2b-cba841507e68"
      },
      "execution_count": null,
      "outputs": [
        {
          "output_type": "execute_result",
          "data": {
            "text/plain": [
              "dict_values([100, 24, 30, 50])"
            ]
          },
          "metadata": {},
          "execution_count": 91
        }
      ]
    },
    {
      "cell_type": "code",
      "source": [
        "ataques_por_empresas.items() # VISUALIZACAO DE DADOS NO FORMATO DE DICIONARIO"
      ],
      "metadata": {
        "colab": {
          "base_uri": "https://localhost:8080/"
        },
        "id": "FeQSoJG1S2gT",
        "outputId": "bb2fb7c7-55a2-413e-98ea-aefd5461f1cc"
      },
      "execution_count": null,
      "outputs": [
        {
          "output_type": "execute_result",
          "data": {
            "text/plain": [
              "dict_items([('DDoS', 100), ('rootkit', 30), ('trojan', 50), ('Ransoware', 200)])"
            ]
          },
          "metadata": {},
          "execution_count": 103
        }
      ]
    },
    {
      "cell_type": "code",
      "source": [
        "outros_ataques = {'engenharia_social': 109, 'forca_bruta': 89}\n",
        "outros_ataques "
      ],
      "metadata": {
        "colab": {
          "base_uri": "https://localhost:8080/"
        },
        "id": "eCEkyyGhTkDm",
        "outputId": "d9730d10-a7a6-4cda-c914-7de2d707bbec"
      },
      "execution_count": null,
      "outputs": [
        {
          "output_type": "execute_result",
          "data": {
            "text/plain": [
              "{'engenharia_social': 109, 'forca_bruta': 89}"
            ]
          },
          "metadata": {},
          "execution_count": 105
        }
      ]
    },
    {
      "cell_type": "code",
      "source": [
        "ataques_por_empresas.update(outros_ataques) # PARA CONCATENAR DOIS DICIONARIOS\n",
        "ataques_por_empresas"
      ],
      "metadata": {
        "colab": {
          "base_uri": "https://localhost:8080/"
        },
        "id": "EHK-X9wAT-T8",
        "outputId": "1d85eacc-01b8-447b-ad7f-1f91b0257df9"
      },
      "execution_count": null,
      "outputs": [
        {
          "output_type": "execute_result",
          "data": {
            "text/plain": [
              "{'DDoS': 100,\n",
              " 'rootkit': 30,\n",
              " 'trojan': 50,\n",
              " 'Ransoware': 200,\n",
              " 'engenharia_social': 109,\n",
              " 'forca_bruta': 89}"
            ]
          },
          "metadata": {},
          "execution_count": 110
        }
      ]
    },
    {
      "cell_type": "code",
      "source": [
        "ataques_por_empresas.values()"
      ],
      "metadata": {
        "colab": {
          "base_uri": "https://localhost:8080/"
        },
        "id": "bM7RST6rUpX6",
        "outputId": "0d07d171-eefd-42fd-c6a0-7767c22f9c96"
      },
      "execution_count": null,
      "outputs": [
        {
          "output_type": "execute_result",
          "data": {
            "text/plain": [
              "dict_values([100, 30, 50, 200, 109, 89])"
            ]
          },
          "metadata": {},
          "execution_count": 111
        }
      ]
    },
    {
      "cell_type": "code",
      "source": [
        "ataques_por_empresas['forca_bruta']"
      ],
      "metadata": {
        "colab": {
          "base_uri": "https://localhost:8080/"
        },
        "id": "rXE-oBM-Ur7P",
        "outputId": "96e4a908-9a48-4147-fde7-d58ab1678c73"
      },
      "execution_count": null,
      "outputs": [
        {
          "output_type": "execute_result",
          "data": {
            "text/plain": [
              "89"
            ]
          },
          "metadata": {},
          "execution_count": 115
        }
      ]
    },
    {
      "cell_type": "code",
      "source": [
        "# PERCORRER DICIONARIO COM FOR\n",
        "for ataques, num_empresas in ataques_por_empresas.items(): # criar 2 variveis 1 para keys outra para values\n",
        "  print(f'Ataques {ataques}, numero de empresas: {num_empresas}')"
      ],
      "metadata": {
        "colab": {
          "base_uri": "https://localhost:8080/"
        },
        "id": "x8uVBV5WVgOA",
        "outputId": "95012ac2-9465-48f8-a5e0-760044f7dd35"
      },
      "execution_count": null,
      "outputs": [
        {
          "output_type": "stream",
          "name": "stdout",
          "text": [
            "Ataques DDoS, numero de empresas: 100\n",
            "Ataques rootkit, numero de empresas: 30\n",
            "Ataques trojan, numero de empresas: 50\n",
            "Ataques Ransoware, numero de empresas: 200\n",
            "Ataques engenharia_social, numero de empresas: 109\n",
            "Ataques forca_bruta, numero de empresas: 89\n"
          ]
        }
      ]
    },
    {
      "cell_type": "markdown",
      "source": [
        "# CONJUNTOS"
      ],
      "metadata": {
        "id": "Zw7KgpvJX-on"
      }
    },
    {
      "cell_type": "code",
      "source": [
        "Ciencias_computacao = ('Machine_learning','Machine_learning', 'Deep_learning','Deep_learning', 'Data_mining','Data_mining', 'computacao_quantica', 'Data_analisys')\n",
        "Ciencias_computacao "
      ],
      "metadata": {
        "colab": {
          "base_uri": "https://localhost:8080/"
        },
        "id": "qDRqMTVDX9Vz",
        "outputId": "54a7cf2f-f5be-42b3-cfa1-9ece6d305f3c"
      },
      "execution_count": null,
      "outputs": [
        {
          "output_type": "execute_result",
          "data": {
            "text/plain": [
              "('Machine_learning',\n",
              " 'Machine_learning',\n",
              " 'Deep_learning',\n",
              " 'Deep_learning',\n",
              " 'Data_mining',\n",
              " 'Data_mining',\n",
              " 'computacao_quantica',\n",
              " 'Data_analisys')"
            ]
          },
          "metadata": {},
          "execution_count": 129
        }
      ]
    },
    {
      "cell_type": "code",
      "source": [
        "print(set(Ciencias_computacao)) # Visualizar o conjunto sem repeticao de valores 'SET'"
      ],
      "metadata": {
        "colab": {
          "base_uri": "https://localhost:8080/"
        },
        "id": "ekEZQUkqZFQo",
        "outputId": "c8f3a5fc-7d32-479a-ae9e-75f83ee4a4be"
      },
      "execution_count": null,
      "outputs": [
        {
          "output_type": "stream",
          "name": "stdout",
          "text": [
            "{'Data_mining', 'computacao_quantica', 'Deep_learning', 'Machine_learning', 'Data_analisys'}\n"
          ]
        }
      ]
    },
    {
      "cell_type": "code",
      "source": [
        "conj1 = {1, 2, 3, 4, 5, 6, 7}\n",
        "conj2 = {4, 5, 13, 14, 15, 16, 17}\n",
        "conj3 = conj1.intersection(conj2) # INTERCESSAO DE CONJUNTOS\n",
        "conj3 \n"
      ],
      "metadata": {
        "colab": {
          "base_uri": "https://localhost:8080/"
        },
        "id": "j59QWeq_Zlnv",
        "outputId": "fda9204e-c77f-4d50-bd36-e230a7a1a10f"
      },
      "execution_count": null,
      "outputs": [
        {
          "output_type": "execute_result",
          "data": {
            "text/plain": [
              "{4, 5}"
            ]
          },
          "metadata": {},
          "execution_count": 138
        }
      ]
    },
    {
      "cell_type": "code",
      "source": [
        "conj1 = {1, 2, 3, 4, 5, 6, 7}\n",
        "conj2 = {4, 5, 13, 14, 15, 16, 17}\n",
        "conj3 = conj1.difference(conj2) # DIFERENCA DE CONJUNTOS\n",
        "conj3 "
      ],
      "metadata": {
        "colab": {
          "base_uri": "https://localhost:8080/"
        },
        "id": "LwM9u4S4Z1TF",
        "outputId": "309f306c-95f4-4d13-e573-b0a98ef5d49c"
      },
      "execution_count": null,
      "outputs": [
        {
          "output_type": "execute_result",
          "data": {
            "text/plain": [
              "{1, 2, 3, 6, 7}"
            ]
          },
          "metadata": {},
          "execution_count": 142
        }
      ]
    },
    {
      "cell_type": "code",
      "source": [
        "conj3 = conj2.difference(conj1) # DIFERENCA DE CONJUNTOS\n",
        "conj3 "
      ],
      "metadata": {
        "colab": {
          "base_uri": "https://localhost:8080/"
        },
        "id": "ucPJEvgWa00E",
        "outputId": "8c001acb-d6a1-4e78-86f1-34f3487d5348"
      },
      "execution_count": null,
      "outputs": [
        {
          "output_type": "execute_result",
          "data": {
            "text/plain": [
              "{13, 14, 15, 16, 17}"
            ]
          },
          "metadata": {},
          "execution_count": 144
        }
      ]
    },
    {
      "cell_type": "markdown",
      "source": [
        "# Matrizes\n",
        "1. Para trabalhar com matriz precisamos importa a biblioteca numpy"
      ],
      "metadata": {
        "id": "tAt6Te18jfEu"
      }
    },
    {
      "cell_type": "code",
      "source": [
        "import numpy as np"
      ],
      "metadata": {
        "id": "hKuldhHdjd6g"
      },
      "execution_count": 3,
      "outputs": []
    },
    {
      "cell_type": "code",
      "source": [
        "matriz = np.array([[2, 3, 6], [5, 8, 4]])  # UMA MATRIZ COM 2 LINHAS 3 COLUNAS\n",
        "matriz"
      ],
      "metadata": {
        "colab": {
          "base_uri": "https://localhost:8080/"
        },
        "id": "dWDVm--2lQAw",
        "outputId": "ec74af5b-cd7d-49b1-b0ec-3129d5045d4d"
      },
      "execution_count": 4,
      "outputs": [
        {
          "output_type": "execute_result",
          "data": {
            "text/plain": [
              "array([[2, 3, 6],\n",
              "       [5, 8, 4]])"
            ]
          },
          "metadata": {},
          "execution_count": 4
        }
      ]
    },
    {
      "cell_type": "code",
      "source": [
        "matriz.shape # PARA VERIFICAR O FORMATO DA MATRIZ 2 SAO LINHAS E 3 SAO COLUNAS "
      ],
      "metadata": {
        "colab": {
          "base_uri": "https://localhost:8080/"
        },
        "id": "hPqSSdOHlv5a",
        "outputId": "7fd3c5d1-c978-4fa6-91c0-6d17310567fa"
      },
      "execution_count": 5,
      "outputs": [
        {
          "output_type": "execute_result",
          "data": {
            "text/plain": [
              "(2, 3)"
            ]
          },
          "metadata": {},
          "execution_count": 5
        }
      ]
    },
    {
      "cell_type": "code",
      "source": [
        "matriz[0]# indice 0 da linha"
      ],
      "metadata": {
        "colab": {
          "base_uri": "https://localhost:8080/"
        },
        "id": "uQ3SpxwxmAlw",
        "outputId": "9ce6cbd7-ccdf-40a2-a9b3-daa12fe255e2"
      },
      "execution_count": 6,
      "outputs": [
        {
          "output_type": "execute_result",
          "data": {
            "text/plain": [
              "array([2, 3, 6])"
            ]
          },
          "metadata": {},
          "execution_count": 6
        }
      ]
    },
    {
      "cell_type": "code",
      "source": [
        "matriz[1][0] # consulta de matriz elemento da linha 1 e coluna 0"
      ],
      "metadata": {
        "colab": {
          "base_uri": "https://localhost:8080/"
        },
        "id": "EoxjrwCkmR0u",
        "outputId": "604e79ad-a9d8-4be1-aa05-7472b0114a52"
      },
      "execution_count": 7,
      "outputs": [
        {
          "output_type": "execute_result",
          "data": {
            "text/plain": [
              "5"
            ]
          },
          "metadata": {},
          "execution_count": 7
        }
      ]
    },
    {
      "cell_type": "code",
      "source": [
        "matriz[0][0:2] # linha 0 coluna 0 a 1"
      ],
      "metadata": {
        "colab": {
          "base_uri": "https://localhost:8080/"
        },
        "id": "fGh38GYnmkRk",
        "outputId": "e1ea48d6-17bc-4213-a36f-c3eafc0cdf5f"
      },
      "execution_count": 11,
      "outputs": [
        {
          "output_type": "execute_result",
          "data": {
            "text/plain": [
              "array([2, 3])"
            ]
          },
          "metadata": {},
          "execution_count": 11
        }
      ]
    },
    {
      "cell_type": "code",
      "source": [
        "# PERCORRER MATRIZ COM FOR \n",
        "for i in matriz[0]: # primeira linha da matriz\n",
        "  print(i)"
      ],
      "metadata": {
        "colab": {
          "base_uri": "https://localhost:8080/"
        },
        "id": "AlU1MugUnAqJ",
        "outputId": "5d13a723-b869-4dfc-a941-022bc411da04"
      },
      "execution_count": 26,
      "outputs": [
        {
          "output_type": "stream",
          "name": "stdout",
          "text": [
            "2\n",
            "3\n",
            "6\n"
          ]
        }
      ]
    },
    {
      "cell_type": "code",
      "source": [
        "for i in range (matriz.shape[0]): # as 2 linhas da matriz\n",
        "  print(matriz[i])"
      ],
      "metadata": {
        "colab": {
          "base_uri": "https://localhost:8080/"
        },
        "id": "jeLVyfQToquL",
        "outputId": "adb6352a-ecb3-428f-96f1-3b2777de55b1"
      },
      "execution_count": 30,
      "outputs": [
        {
          "output_type": "stream",
          "name": "stdout",
          "text": [
            "[2 3 6]\n",
            "[5 8 4]\n"
          ]
        }
      ]
    },
    {
      "cell_type": "code",
      "source": [
        "# PARA ACESSAR LINHAS E RESPETIVOS ELEMENTOS DE CADA COLUNAS\n",
        "for i in range (matriz.shape[0]):\n",
        "    print(matriz[i])\n",
        "    for j in range(matriz.shape[1]):\n",
        "      print(matriz[i][j])\n",
        "\n"
      ],
      "metadata": {
        "colab": {
          "base_uri": "https://localhost:8080/"
        },
        "id": "MZOwsl0NoeSN",
        "outputId": "6f35e4cf-619d-4fec-e203-925fd87490e6"
      },
      "execution_count": 37,
      "outputs": [
        {
          "output_type": "stream",
          "name": "stdout",
          "text": [
            "[2 3 6]\n",
            "2\n",
            "3\n",
            "6\n",
            "[5 8 4]\n",
            "5\n",
            "8\n",
            "4\n"
          ]
        }
      ]
    },
    {
      "cell_type": "markdown",
      "source": [
        "# EXERCICIOS\n",
        "1. LISTA\n",
        "2. DICIONARIO\n",
        "3. MATRIZ"
      ],
      "metadata": {
        "id": "hhH0KbRxrWQ0"
      }
    },
    {
      "cell_type": "code",
      "source": [
        "Lista = []\n",
        "for _ in range(1, 6):\n",
        "  valor = int(input('Digite o valor:  '))\n",
        "  Lista.append(valor)\n",
        "  "
      ],
      "metadata": {
        "colab": {
          "base_uri": "https://localhost:8080/"
        },
        "id": "D4NsgYMkrVUw",
        "outputId": "2470ee1f-ca0e-4fab-e5b6-c40a0a3a6166"
      },
      "execution_count": 76,
      "outputs": [
        {
          "name": "stdout",
          "output_type": "stream",
          "text": [
            "Digite o valor:  16\n",
            "Digite o valor:  3\n",
            "Digite o valor:  3\n",
            "Digite o valor:  17\n",
            "Digite o valor:  19\n"
          ]
        }
      ]
    },
    {
      "cell_type": "code",
      "source": [
        "Lista"
      ],
      "metadata": {
        "colab": {
          "base_uri": "https://localhost:8080/"
        },
        "id": "pebMlD8L0tAt",
        "outputId": "224930a5-a3e6-4dee-b8d9-a7c155027a0b"
      },
      "execution_count": 79,
      "outputs": [
        {
          "output_type": "execute_result",
          "data": {
            "text/plain": [
              "[16, 3, 3, 17, 19]"
            ]
          },
          "metadata": {},
          "execution_count": 79
        }
      ]
    },
    {
      "cell_type": "code",
      "source": [
        "soma = 0\n",
        "for i in range(len(Lista)):\n",
        "  soma += Lista[i]\n",
        "  #print(Lista[1])\n",
        "print('Soma: ', soma)\n"
      ],
      "metadata": {
        "colab": {
          "base_uri": "https://localhost:8080/"
        },
        "id": "v3VUmq351N_r",
        "outputId": "bb2d8ffe-bb76-464d-8a15-c211eb51cc79"
      },
      "execution_count": 90,
      "outputs": [
        {
          "output_type": "stream",
          "name": "stdout",
          "text": [
            "Soma:  58\n"
          ]
        }
      ]
    },
    {
      "cell_type": "code",
      "source": [
        "np.array(Lista).sum() # somar uma lista com Numpy"
      ],
      "metadata": {
        "colab": {
          "base_uri": "https://localhost:8080/"
        },
        "id": "ZCgD3Sf04Kc1",
        "outputId": "a957c717-f109-4944-9e41-dcdb2a09e3e2"
      },
      "execution_count": 93,
      "outputs": [
        {
          "output_type": "execute_result",
          "data": {
            "text/plain": [
              "58"
            ]
          },
          "metadata": {},
          "execution_count": 93
        }
      ]
    },
    {
      "cell_type": "code",
      "source": [
        "# DICIONARIO\n",
        "alunos = {}\n",
        "for _ in range(1, 4):\n",
        "  nome = input('Nome ')\n",
        "  nota = float(input('Nota '))\n",
        "  alunos[nome] = nota"
      ],
      "metadata": {
        "colab": {
          "base_uri": "https://localhost:8080/"
        },
        "id": "xGzXTCeesxW0",
        "outputId": "44a9f5d4-f382-41ca-bfeb-07ace25e40e4"
      },
      "execution_count": 113,
      "outputs": [
        {
          "name": "stdout",
          "output_type": "stream",
          "text": [
            "Nome Leonel\n",
            "Nota 19\n",
            "Nome Ilidio\n",
            "Nota 18.50\n",
            "Nome Higinei\n",
            "Nota 17.90\n"
          ]
        }
      ]
    },
    {
      "cell_type": "code",
      "source": [
        "alunos"
      ],
      "metadata": {
        "colab": {
          "base_uri": "https://localhost:8080/"
        },
        "id": "K3KKh5cn6amk",
        "outputId": "2024c01a-709e-4dfc-c2d9-293466052897"
      },
      "execution_count": 114,
      "outputs": [
        {
          "output_type": "execute_result",
          "data": {
            "text/plain": [
              "{'Leonel': 19.0, 'Ilidio': 18.5, 'Higinei': 17.9}"
            ]
          },
          "metadata": {},
          "execution_count": 114
        }
      ]
    },
    {
      "cell_type": "code",
      "source": [
        "alunos.values()"
      ],
      "metadata": {
        "colab": {
          "base_uri": "https://localhost:8080/"
        },
        "id": "zhQEAsBG7P_2",
        "outputId": "bf71d7fb-a3ab-41b7-c8cc-075743ed3c67"
      },
      "execution_count": 115,
      "outputs": [
        {
          "output_type": "execute_result",
          "data": {
            "text/plain": [
              "dict_values([19.0, 18.5, 17.9])"
            ]
          },
          "metadata": {},
          "execution_count": 115
        }
      ]
    },
    {
      "cell_type": "code",
      "source": [
        "soma = 0\n",
        "for i in alunos.values():\n",
        "  soma += nota\n",
        "print('A media eh', soma/3)\n",
        "\n"
      ],
      "metadata": {
        "colab": {
          "base_uri": "https://localhost:8080/"
        },
        "id": "NRwxrfB97e6N",
        "outputId": "c93eb689-91ae-4b56-ded1-bbfa4ce0c695"
      },
      "execution_count": 159,
      "outputs": [
        {
          "output_type": "stream",
          "name": "stdout",
          "text": [
            "A media eh 20.0\n"
          ]
        }
      ]
    },
    {
      "cell_type": "code",
      "source": [
        "# MATRIZ\n",
        "matriz = np.array([[10, 12, 15], [14, 13, 18]])\n",
        "matriz"
      ],
      "metadata": {
        "colab": {
          "base_uri": "https://localhost:8080/"
        },
        "id": "VSw96Z3V9wwX",
        "outputId": "3a500d2a-ee5a-4cc6-b103-f3b8e0e76430"
      },
      "execution_count": 122,
      "outputs": [
        {
          "output_type": "execute_result",
          "data": {
            "text/plain": [
              "array([[10, 12, 15],\n",
              "       [14, 13, 18]])"
            ]
          },
          "metadata": {},
          "execution_count": 122
        }
      ]
    },
    {
      "cell_type": "code",
      "source": [
        "matriz.shape"
      ],
      "metadata": {
        "colab": {
          "base_uri": "https://localhost:8080/"
        },
        "id": "czGOAa_l-CjB",
        "outputId": "7a79795e-9b7f-4033-adf6-92b8314926fc"
      },
      "execution_count": 123,
      "outputs": [
        {
          "output_type": "execute_result",
          "data": {
            "text/plain": [
              "(2, 3)"
            ]
          },
          "metadata": {},
          "execution_count": 123
        }
      ]
    },
    {
      "cell_type": "code",
      "source": [
        "soma = 0\n",
        "for i in range (matriz.shape[0]):\n",
        "  for j in range(matriz.shape[1]):\n",
        "    print(matriz[i][j])\n",
        "    soma += matriz[i][j]\n",
        "print('A soma da matriz eh', soma)"
      ],
      "metadata": {
        "colab": {
          "base_uri": "https://localhost:8080/"
        },
        "id": "NHVZHMmm-auI",
        "outputId": "59ce177d-2312-4d98-b33e-59cafc8c6418"
      },
      "execution_count": 126,
      "outputs": [
        {
          "output_type": "stream",
          "name": "stdout",
          "text": [
            "10\n",
            "12\n",
            "15\n",
            "14\n",
            "13\n",
            "18\n",
            "A soma da matriz eh 82\n"
          ]
        }
      ]
    },
    {
      "cell_type": "code",
      "source": [
        "# CURIOSIDADE CRIANDO LISTA DE 4 ALUNOS \n",
        "lista = []\n",
        "for _ in range(1, 5):\n",
        "  nome = input('Nome ')\n",
        "  lista.append(nome)"
      ],
      "metadata": {
        "colab": {
          "base_uri": "https://localhost:8080/"
        },
        "id": "hvbAcSlEB3Zx",
        "outputId": "93be3f45-031a-442f-bc10-d70121398abc"
      },
      "execution_count": 136,
      "outputs": [
        {
          "name": "stdout",
          "output_type": "stream",
          "text": [
            "Nome Leonel\n",
            "Nome Ilidio\n",
            "Nome Higiney\n",
            "Nome Bruno\n"
          ]
        }
      ]
    },
    {
      "cell_type": "code",
      "source": [
        "# CURIOSIDADE CRIANDO UM DICIONARIO DE 15 ALUNOS E RESPETIVAS NOTAS\n",
        "Estudantes_mia = {}\n",
        "for _ in range(1,5):\n",
        "  nome = input('Nome do aluno ')\n",
        "  nota = float(input('Nota '))\n",
        "  Estudantes_mia[nome] = nota"
      ],
      "metadata": {
        "colab": {
          "base_uri": "https://localhost:8080/"
        },
        "id": "iZ4uvTIaAizY",
        "outputId": "e50da0b3-4676-421c-aaba-3a6225412bbb"
      },
      "execution_count": 143,
      "outputs": [
        {
          "name": "stdout",
          "output_type": "stream",
          "text": [
            "Nome do aluno Leonel\n",
            "Nota 18\n",
            "Nome do aluno Ilidio\n",
            "Nota 16\n",
            "Nome do aluno Higiney\n",
            "Nota 16\n",
            "Nome do aluno Bruno\n",
            "Nota 20\n"
          ]
        }
      ]
    },
    {
      "cell_type": "code",
      "source": [
        "Estudantes_mia"
      ],
      "metadata": {
        "colab": {
          "base_uri": "https://localhost:8080/"
        },
        "id": "0nsW_xX5BIU7",
        "outputId": "c9c27d68-bb29-4aa8-d8a6-dca7a1124d68"
      },
      "execution_count": 144,
      "outputs": [
        {
          "output_type": "execute_result",
          "data": {
            "text/plain": [
              "{'Leonel': 18.0, 'Ilidio': 16.0, 'Higiney': 16.0, 'Bruno': 20.0}"
            ]
          },
          "metadata": {},
          "execution_count": 144
        }
      ]
    },
    {
      "cell_type": "code",
      "source": [
        "Estudantes_mia.values()"
      ],
      "metadata": {
        "colab": {
          "base_uri": "https://localhost:8080/"
        },
        "id": "cAycZwigEcSX",
        "outputId": "d3185988-128a-4081-93a9-f5009c80c29e"
      },
      "execution_count": 145,
      "outputs": [
        {
          "output_type": "execute_result",
          "data": {
            "text/plain": [
              "dict_values([18.0, 16.0, 16.0, 20.0])"
            ]
          },
          "metadata": {},
          "execution_count": 145
        }
      ]
    },
    {
      "cell_type": "code",
      "source": [
        "soma = 0\n",
        "for i in Estudantes_mia.values():\n",
        "  soma += nota\n",
        "  print(soma)\n",
        "print('A media e ', soma/4)"
      ],
      "metadata": {
        "colab": {
          "base_uri": "https://localhost:8080/"
        },
        "id": "Nkg5vZUkFMLm",
        "outputId": "aa66cc9a-6b3b-4b8a-ce53-8e736310f051"
      },
      "execution_count": 163,
      "outputs": [
        {
          "output_type": "stream",
          "name": "stdout",
          "text": [
            "20.0\n",
            "40.0\n",
            "60.0\n",
            "80.0\n",
            "A media e  20.0\n"
          ]
        }
      ]
    },
    {
      "cell_type": "code",
      "source": [
        "MATRIZ = np.array([[2, 9, 4, 5], [21, 34,1,3], [1, 3,10,30]])\n",
        "MATRIZ "
      ],
      "metadata": {
        "colab": {
          "base_uri": "https://localhost:8080/"
        },
        "id": "1TeJsdEaJfCF",
        "outputId": "04f5f086-9691-489d-90bc-011d64df9045"
      },
      "execution_count": 178,
      "outputs": [
        {
          "output_type": "execute_result",
          "data": {
            "text/plain": [
              "array([[ 2,  9,  4,  5],\n",
              "       [21, 34,  1,  3],\n",
              "       [ 1,  3, 10, 30]])"
            ]
          },
          "metadata": {},
          "execution_count": 178
        }
      ]
    },
    {
      "cell_type": "code",
      "source": [
        "soma = 0\n",
        "for i in range (MATRIZ.shape[0]):\n",
        "  for y in range (MATRIZ.shape[1]):\n",
        "    soma += MATRIZ[0][1] \n",
        "print(soma)"
      ],
      "metadata": {
        "colab": {
          "base_uri": "https://localhost:8080/"
        },
        "id": "mjRUyYO4KBj7",
        "outputId": "e2a891f5-e14d-482c-b043-9cb10859a50e"
      },
      "execution_count": 186,
      "outputs": [
        {
          "output_type": "stream",
          "name": "stdout",
          "text": [
            "108\n"
          ]
        }
      ]
    }
  ],
  "metadata": {
    "kernelspec": {
      "display_name": "Python 3",
      "language": "python",
      "name": "python3"
    },
    "language_info": {
      "codemirror_mode": {
        "name": "ipython",
        "version": 3
      },
      "file_extension": ".py",
      "mimetype": "text/x-python",
      "name": "python",
      "nbconvert_exporter": "python",
      "pygments_lexer": "ipython3",
      "version": "3.8.8"
    },
    "colab": {
      "provenance": [],
      "collapsed_sections": [],
      "include_colab_link": true
    }
  },
  "nbformat": 4,
  "nbformat_minor": 0
}